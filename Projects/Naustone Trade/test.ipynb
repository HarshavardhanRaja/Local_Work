{
 "cells": [
  {
   "cell_type": "code",
   "execution_count": 39,
   "id": "927368d8",
   "metadata": {},
   "outputs": [],
   "source": [
    "import pandas as pd\n",
    "import numpy as np\n",
    "import matplotlib as plt\n",
    "%matplotlib inline\n"
   ]
  },
  {
   "cell_type": "markdown",
   "id": "53dadff9",
   "metadata": {},
   "source": [
    "\n"
   ]
  },
  {
   "cell_type": "code",
   "execution_count": 30,
   "id": "5f55c303",
   "metadata": {},
   "outputs": [],
   "source": [
    "columns_names=[\"Date\", \"Open\", \"High\", \"Low\", \"Close\", \"Change(Pips)\", \"Change(%)\"]\n",
    "eur_jpy = pd.read_csv('./datasets/EURJPY_historical_data.csv', skiprows=1, header=0, index_col=False)\n",
    "eur_usd = pd.read_csv('./datasets/EURUSD_historical_data.csv', skiprows=2, header = 0, index_col=False)\n",
    "usd_jpy = pd.read_csv('./datasets/USDJPY_historical_data.csv', skiprows=2, header = 0, index_col=False)"
   ]
  },
  {
   "cell_type": "markdown",
   "id": "b3597eba",
   "metadata": {},
   "source": [
    "## EURJPY "
   ]
  },
  {
   "cell_type": "code",
   "execution_count": 35,
   "id": "60606d57",
   "metadata": {},
   "outputs": [
    {
     "data": {
      "text/html": [
       "<div>\n",
       "<style scoped>\n",
       "    .dataframe tbody tr th:only-of-type {\n",
       "        vertical-align: middle;\n",
       "    }\n",
       "\n",
       "    .dataframe tbody tr th {\n",
       "        vertical-align: top;\n",
       "    }\n",
       "\n",
       "    .dataframe thead th {\n",
       "        text-align: right;\n",
       "    }\n",
       "</style>\n",
       "<table border=\"1\" class=\"dataframe\">\n",
       "  <thead>\n",
       "    <tr style=\"text-align: right;\">\n",
       "      <th></th>\n",
       "      <th>Date</th>\n",
       "      <th>Open</th>\n",
       "      <th>High</th>\n",
       "      <th>Low</th>\n",
       "      <th>Close</th>\n",
       "      <th>Change(Pips)</th>\n",
       "      <th>Change(%)</th>\n",
       "    </tr>\n",
       "  </thead>\n",
       "  <tbody>\n",
       "    <tr>\n",
       "      <th>0</th>\n",
       "      <td>07/09/2021 00:00</td>\n",
       "      <td>130.077</td>\n",
       "      <td>130.175</td>\n",
       "      <td>130.046</td>\n",
       "      <td>130.125</td>\n",
       "      <td>4.8</td>\n",
       "      <td>0.04</td>\n",
       "    </tr>\n",
       "    <tr>\n",
       "      <th>1</th>\n",
       "      <td>07/08/2021 23:45</td>\n",
       "      <td>130.112</td>\n",
       "      <td>130.130</td>\n",
       "      <td>130.050</td>\n",
       "      <td>130.077</td>\n",
       "      <td>-3.5</td>\n",
       "      <td>-0.03</td>\n",
       "    </tr>\n",
       "    <tr>\n",
       "      <th>2</th>\n",
       "      <td>07/08/2021 23:30</td>\n",
       "      <td>130.073</td>\n",
       "      <td>130.130</td>\n",
       "      <td>130.072</td>\n",
       "      <td>130.113</td>\n",
       "      <td>4.0</td>\n",
       "      <td>0.03</td>\n",
       "    </tr>\n",
       "    <tr>\n",
       "      <th>3</th>\n",
       "      <td>07/08/2021 23:15</td>\n",
       "      <td>130.050</td>\n",
       "      <td>130.058</td>\n",
       "      <td>130.035</td>\n",
       "      <td>130.047</td>\n",
       "      <td>-0.3</td>\n",
       "      <td>0.00</td>\n",
       "    </tr>\n",
       "    <tr>\n",
       "      <th>4</th>\n",
       "      <td>07/08/2021 23:00</td>\n",
       "      <td>130.040</td>\n",
       "      <td>130.063</td>\n",
       "      <td>130.033</td>\n",
       "      <td>130.051</td>\n",
       "      <td>1.1</td>\n",
       "      <td>0.01</td>\n",
       "    </tr>\n",
       "  </tbody>\n",
       "</table>\n",
       "</div>"
      ],
      "text/plain": [
       "               Date     Open     High      Low    Close  Change(Pips)  \\\n",
       "0  07/09/2021 00:00  130.077  130.175  130.046  130.125           4.8   \n",
       "1  07/08/2021 23:45  130.112  130.130  130.050  130.077          -3.5   \n",
       "2  07/08/2021 23:30  130.073  130.130  130.072  130.113           4.0   \n",
       "3  07/08/2021 23:15  130.050  130.058  130.035  130.047          -0.3   \n",
       "4  07/08/2021 23:00  130.040  130.063  130.033  130.051           1.1   \n",
       "\n",
       "   Change(%)  \n",
       "0       0.04  \n",
       "1      -0.03  \n",
       "2       0.03  \n",
       "3       0.00  \n",
       "4       0.01  "
      ]
     },
     "execution_count": 35,
     "metadata": {},
     "output_type": "execute_result"
    }
   ],
   "source": [
    "eur_jpy.head()"
   ]
  },
  {
   "cell_type": "code",
   "execution_count": 36,
   "id": "bf5d6020",
   "metadata": {},
   "outputs": [
    {
     "data": {
      "text/html": [
       "<div>\n",
       "<style scoped>\n",
       "    .dataframe tbody tr th:only-of-type {\n",
       "        vertical-align: middle;\n",
       "    }\n",
       "\n",
       "    .dataframe tbody tr th {\n",
       "        vertical-align: top;\n",
       "    }\n",
       "\n",
       "    .dataframe thead th {\n",
       "        text-align: right;\n",
       "    }\n",
       "</style>\n",
       "<table border=\"1\" class=\"dataframe\">\n",
       "  <thead>\n",
       "    <tr style=\"text-align: right;\">\n",
       "      <th></th>\n",
       "      <th>Open</th>\n",
       "      <th>High</th>\n",
       "      <th>Low</th>\n",
       "      <th>Close</th>\n",
       "      <th>Change(Pips)</th>\n",
       "      <th>Change(%)</th>\n",
       "    </tr>\n",
       "  </thead>\n",
       "  <tbody>\n",
       "    <tr>\n",
       "      <th>count</th>\n",
       "      <td>385.000000</td>\n",
       "      <td>385.000000</td>\n",
       "      <td>385.000000</td>\n",
       "      <td>385.000000</td>\n",
       "      <td>385.000000</td>\n",
       "      <td>385.000000</td>\n",
       "    </tr>\n",
       "    <tr>\n",
       "      <th>mean</th>\n",
       "      <td>130.889421</td>\n",
       "      <td>130.921003</td>\n",
       "      <td>130.850584</td>\n",
       "      <td>130.885623</td>\n",
       "      <td>-0.379740</td>\n",
       "      <td>-0.002779</td>\n",
       "    </tr>\n",
       "    <tr>\n",
       "      <th>std</th>\n",
       "      <td>0.623335</td>\n",
       "      <td>0.616694</td>\n",
       "      <td>0.633185</td>\n",
       "      <td>0.622749</td>\n",
       "      <td>4.750187</td>\n",
       "      <td>0.036412</td>\n",
       "    </tr>\n",
       "    <tr>\n",
       "      <th>min</th>\n",
       "      <td>129.698000</td>\n",
       "      <td>129.783000</td>\n",
       "      <td>129.625000</td>\n",
       "      <td>129.700000</td>\n",
       "      <td>-23.000000</td>\n",
       "      <td>-0.170000</td>\n",
       "    </tr>\n",
       "    <tr>\n",
       "      <th>25%</th>\n",
       "      <td>130.417000</td>\n",
       "      <td>130.455000</td>\n",
       "      <td>130.381000</td>\n",
       "      <td>130.415000</td>\n",
       "      <td>-3.000000</td>\n",
       "      <td>-0.020000</td>\n",
       "    </tr>\n",
       "    <tr>\n",
       "      <th>50%</th>\n",
       "      <td>130.809000</td>\n",
       "      <td>130.834000</td>\n",
       "      <td>130.772000</td>\n",
       "      <td>130.807000</td>\n",
       "      <td>0.000000</td>\n",
       "      <td>0.000000</td>\n",
       "    </tr>\n",
       "    <tr>\n",
       "      <th>75%</th>\n",
       "      <td>131.603000</td>\n",
       "      <td>131.622000</td>\n",
       "      <td>131.581000</td>\n",
       "      <td>131.603000</td>\n",
       "      <td>1.800000</td>\n",
       "      <td>0.010000</td>\n",
       "    </tr>\n",
       "    <tr>\n",
       "      <th>max</th>\n",
       "      <td>131.836000</td>\n",
       "      <td>131.863000</td>\n",
       "      <td>131.812000</td>\n",
       "      <td>131.837000</td>\n",
       "      <td>20.100000</td>\n",
       "      <td>0.150000</td>\n",
       "    </tr>\n",
       "  </tbody>\n",
       "</table>\n",
       "</div>"
      ],
      "text/plain": [
       "             Open        High         Low       Close  Change(Pips)  \\\n",
       "count  385.000000  385.000000  385.000000  385.000000    385.000000   \n",
       "mean   130.889421  130.921003  130.850584  130.885623     -0.379740   \n",
       "std      0.623335    0.616694    0.633185    0.622749      4.750187   \n",
       "min    129.698000  129.783000  129.625000  129.700000    -23.000000   \n",
       "25%    130.417000  130.455000  130.381000  130.415000     -3.000000   \n",
       "50%    130.809000  130.834000  130.772000  130.807000      0.000000   \n",
       "75%    131.603000  131.622000  131.581000  131.603000      1.800000   \n",
       "max    131.836000  131.863000  131.812000  131.837000     20.100000   \n",
       "\n",
       "        Change(%)  \n",
       "count  385.000000  \n",
       "mean    -0.002779  \n",
       "std      0.036412  \n",
       "min     -0.170000  \n",
       "25%     -0.020000  \n",
       "50%      0.000000  \n",
       "75%      0.010000  \n",
       "max      0.150000  "
      ]
     },
     "execution_count": 36,
     "metadata": {},
     "output_type": "execute_result"
    }
   ],
   "source": [
    "eur_jpy.describe()"
   ]
  },
  {
   "cell_type": "code",
   "execution_count": 40,
   "id": "a4571a65",
   "metadata": {},
   "outputs": [
    {
     "ename": "AttributeError",
     "evalue": "module 'matplotlib' has no attribute 'show'",
     "output_type": "error",
     "traceback": [
      "\u001b[0;31m---------------------------------------------------------------------------\u001b[0m",
      "\u001b[0;31mAttributeError\u001b[0m                            Traceback (most recent call last)",
      "\u001b[0;32m<ipython-input-40-47a8f02ad151>\u001b[0m in \u001b[0;36m<module>\u001b[0;34m\u001b[0m\n\u001b[1;32m      9\u001b[0m \u001b[0maxis\u001b[0m\u001b[0;34m.\u001b[0m\u001b[0mset_ylabel\u001b[0m\u001b[0;34m(\u001b[0m\u001b[0;34m\"Currency :---\"\u001b[0m\u001b[0;34m)\u001b[0m\u001b[0;34m\u001b[0m\u001b[0;34m\u001b[0m\u001b[0m\n\u001b[1;32m     10\u001b[0m \u001b[0;34m\u001b[0m\u001b[0m\n\u001b[0;32m---> 11\u001b[0;31m \u001b[0mplt\u001b[0m\u001b[0;34m.\u001b[0m\u001b[0mshow\u001b[0m\u001b[0;34m(\u001b[0m\u001b[0;34m)\u001b[0m\u001b[0;34m\u001b[0m\u001b[0;34m\u001b[0m\u001b[0m\n\u001b[0m",
      "\u001b[0;31mAttributeError\u001b[0m: module 'matplotlib' has no attribute 'show'"
     ]
    },
    {
     "data": {
      "image/png": "[encoded data removed]",
      "text/plain": [
       "<Figure size 1080x432 with 1 Axes>"
      ]
     },
     "metadata": {
      "needs_background": "light"
     },
     "output_type": "display_data"
    }
   ],
   "source": [
    "#Plotting data\n",
    "\n"
   ]
  },
  {
   "cell_type": "code",
   "execution_count": null,
   "id": "958c3d56",
   "metadata": {},
   "outputs": [],
   "source": []
  }
 ],
 "metadata": {
  "kernelspec": {
   "display_name": "Python 3",
   "language": "python",
   "name": "python3"
  },
  "language_info": {
   "codemirror_mode": {
    "name": "ipython",
    "version": 3
   },
   "file_extension": ".py",
   "mimetype": "text/x-python",
   "name": "python",
   "nbconvert_exporter": "python",
   "pygments_lexer": "ipython3",
   "version": "3.8.8"
  }
 },
 "nbformat": 4,
 "nbformat_minor": 5
}
